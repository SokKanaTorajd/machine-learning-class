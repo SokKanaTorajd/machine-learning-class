{
 "cells": [
  {
   "cell_type": "markdown",
   "id": "7714b48f",
   "metadata": {},
   "source": [
    "# Unsupervised Learning\n",
    "\n",
    "Notebook ini berisi praktik Unsupervised Learning yaitu proses klasterisasi menggunakan metode K-Means dan DBSCAN (Density-Based Spatial Clustering of Applications with Noise) pada library scikit learn.\n",
    "\n",
    "Data yang digunakan adalah data bunga iris yang sudah tersedia pada library scikit learn. Dengan asumsi bahwa data bunga iris akan diolah untuk dikelompokkan menjadi beberapa klaster. Model yang dibuat nanti akan digunakan untuk mengelompokkan data baru."
   ]
  },
  {
   "cell_type": "markdown",
   "id": "b31828f9",
   "metadata": {},
   "source": [
    "## K-Means Clustering"
   ]
  },
  {
   "cell_type": "code",
   "execution_count": 1,
   "id": "7995c7fc",
   "metadata": {},
   "outputs": [],
   "source": [
    "# import libraries\n",
    "\n",
    "from scipy.spatial.distance import cdist\n",
    "from sklearn.datasets import load_iris\n",
    "from sklearn.cluster import KMeans\n",
    "from matplotlib import pyplot\n",
    "import pandas as pd\n",
    "import numpy as np"
   ]
  },
  {
   "cell_type": "code",
   "execution_count": 2,
   "id": "e757d182",
   "metadata": {},
   "outputs": [],
   "source": [
    "# load data\n",
    "data = load_iris()\n",
    "features = data['data']"
   ]
  },
  {
   "cell_type": "code",
   "execution_count": 3,
   "id": "1d3dff1a",
   "metadata": {},
   "outputs": [],
   "source": [
    "# create dataframe\n",
    "df_iris = pd.DataFrame(features, \n",
    "                       columns=\n",
    "                       ['sepallength', 'sepalwidth', \n",
    "                        'petallength', 'petalwidth'])"
   ]
  },
  {
   "cell_type": "code",
   "execution_count": 4,
   "id": "7d4b9e87",
   "metadata": {},
   "outputs": [],
   "source": [
    "# only select column 'petallength' and 'petalwidth'\n",
    "df_iris = df_iris[['petallength', 'petalwidth']]"
   ]
  },
  {
   "cell_type": "code",
   "execution_count": 5,
   "id": "0bd46741",
   "metadata": {},
   "outputs": [
    {
     "data": {
      "text/plain": [
       "(150, 2)"
      ]
     },
     "execution_count": 5,
     "metadata": {},
     "output_type": "execute_result"
    }
   ],
   "source": [
    "# check on dataframe's shape\n",
    "df_iris.shape"
   ]
  },
  {
   "cell_type": "code",
   "execution_count": 6,
   "id": "3394c328",
   "metadata": {},
   "outputs": [
    {
     "data": {
      "text/html": [
       "<div>\n",
       "<style scoped>\n",
       "    .dataframe tbody tr th:only-of-type {\n",
       "        vertical-align: middle;\n",
       "    }\n",
       "\n",
       "    .dataframe tbody tr th {\n",
       "        vertical-align: top;\n",
       "    }\n",
       "\n",
       "    .dataframe thead th {\n",
       "        text-align: right;\n",
       "    }\n",
       "</style>\n",
       "<table border=\"1\" class=\"dataframe\">\n",
       "  <thead>\n",
       "    <tr style=\"text-align: right;\">\n",
       "      <th></th>\n",
       "      <th>petallength</th>\n",
       "      <th>petalwidth</th>\n",
       "    </tr>\n",
       "  </thead>\n",
       "  <tbody>\n",
       "    <tr>\n",
       "      <th>count</th>\n",
       "      <td>150.000000</td>\n",
       "      <td>150.000000</td>\n",
       "    </tr>\n",
       "    <tr>\n",
       "      <th>mean</th>\n",
       "      <td>3.758000</td>\n",
       "      <td>1.199333</td>\n",
       "    </tr>\n",
       "    <tr>\n",
       "      <th>std</th>\n",
       "      <td>1.765298</td>\n",
       "      <td>0.762238</td>\n",
       "    </tr>\n",
       "    <tr>\n",
       "      <th>min</th>\n",
       "      <td>1.000000</td>\n",
       "      <td>0.100000</td>\n",
       "    </tr>\n",
       "    <tr>\n",
       "      <th>25%</th>\n",
       "      <td>1.600000</td>\n",
       "      <td>0.300000</td>\n",
       "    </tr>\n",
       "    <tr>\n",
       "      <th>50%</th>\n",
       "      <td>4.350000</td>\n",
       "      <td>1.300000</td>\n",
       "    </tr>\n",
       "    <tr>\n",
       "      <th>75%</th>\n",
       "      <td>5.100000</td>\n",
       "      <td>1.800000</td>\n",
       "    </tr>\n",
       "    <tr>\n",
       "      <th>max</th>\n",
       "      <td>6.900000</td>\n",
       "      <td>2.500000</td>\n",
       "    </tr>\n",
       "  </tbody>\n",
       "</table>\n",
       "</div>"
      ],
      "text/plain": [
       "       petallength  petalwidth\n",
       "count   150.000000  150.000000\n",
       "mean      3.758000    1.199333\n",
       "std       1.765298    0.762238\n",
       "min       1.000000    0.100000\n",
       "25%       1.600000    0.300000\n",
       "50%       4.350000    1.300000\n",
       "75%       5.100000    1.800000\n",
       "max       6.900000    2.500000"
      ]
     },
     "execution_count": 6,
     "metadata": {},
     "output_type": "execute_result"
    }
   ],
   "source": [
    "df_iris.describe()"
   ]
  },
  {
   "cell_type": "code",
   "execution_count": 7,
   "id": "4bf7ea7e",
   "metadata": {},
   "outputs": [
    {
     "name": "stdout",
     "output_type": "stream",
     "text": [
      "<class 'pandas.core.frame.DataFrame'>\n",
      "RangeIndex: 150 entries, 0 to 149\n",
      "Data columns (total 2 columns):\n",
      " #   Column       Non-Null Count  Dtype  \n",
      "---  ------       --------------  -----  \n",
      " 0   petallength  150 non-null    float64\n",
      " 1   petalwidth   150 non-null    float64\n",
      "dtypes: float64(2)\n",
      "memory usage: 2.5 KB\n"
     ]
    }
   ],
   "source": [
    "df_iris.info()"
   ]
  },
  {
   "cell_type": "code",
   "execution_count": 12,
   "id": "0bd1a672",
   "metadata": {
    "scrolled": true
   },
   "outputs": [
    {
     "data": {
      "image/png": "[encoded data removed]",
      "text/plain": [
       "<Figure size 432x288 with 1 Axes>"
      ]
     },
     "metadata": {
      "needs_background": "light"
     },
     "output_type": "display_data"
    }
   ],
   "source": [
    "# visualization of data distribution\n",
    "\n",
    "pyplot.plot(df_iris['petallength'],df_iris['petalwidth'],'.')\n",
    "pyplot.xlabel('petal length')\n",
    "pyplot.ylabel('petal width')\n",
    "pyplot.show()"
   ]
  },
  {
   "cell_type": "markdown",
   "id": "974074d0",
   "metadata": {},
   "source": [
    "### Elbow Method\n",
    "\n",
    "Dalam KMeans apabila bingung/kurang yakin untuk menentukan jumlah klaster yang diinginkan dapat menggunakan Elbow Method.\n",
    "Elbow Method dapat dihitung dengan 'distortion' dan 'inertia'.\n",
    "Distorsi adalah rata-rata jarak kuadrat euclidean dari pusat massa masing-masing cluster. Inersia adalah jumlah kuadrat jarak sampel ke pusat cluster terdekat.\n",
    "\n",
    "referensi: https://towardsdatascience.com/clustering-with-k-means-1e07a8bfb7ca"
   ]
  },
  {
   "cell_type": "code",
   "execution_count": 16,
   "id": "8f5c118d",
   "metadata": {},
   "outputs": [],
   "source": [
    "# find the best n-cluster with elbow method using distortion and inertia\n",
    "distortions = []\n",
    "inertias = []\n",
    "distortions_mapping = {}\n",
    "inertias_mapping = {}\n",
    "K = range(1, 10)\n",
    "\n",
    "for k in K:\n",
    "    # Building and fitting the model\n",
    "    kmeanModel = KMeans(n_clusters=k).fit(df_iris)\n",
    "    kmeanModel.fit(df_iris)\n",
    "  \n",
    "    distortions.append(sum(np.min(cdist(df_iris, kmeanModel.cluster_centers_,\n",
    "                                        'euclidean'), axis=1)) / df_iris.shape[0])\n",
    "    inertias.append(kmeanModel.inertia_)\n",
    "  \n",
    "    distortions_mapping[k] = sum(np.min(cdist(df_iris, kmeanModel.cluster_centers_,\n",
    "                                   'euclidean'), axis=1)) / df_iris.shape[0]\n",
    "    inertias_mapping[k] = kmeanModel.inertia_"
   ]
  },
  {
   "cell_type": "code",
   "execution_count": 17,
   "id": "9e1bbcc9",
   "metadata": {},
   "outputs": [
    {
     "name": "stdout",
     "output_type": "stream",
     "text": [
      "1 : 1.707364436891335\n",
      "2 : 0.583920126422277\n",
      "3 : 0.36876646966749166\n",
      "4 : 0.2998651974037013\n",
      "5 : 0.26508349289751987\n",
      "6 : 0.23357596529783659\n",
      "7 : 0.2119667382225088\n",
      "8 : 0.19577619564786694\n",
      "9 : 0.1842857252575511\n"
     ]
    }
   ],
   "source": [
    "# distortion values\n",
    "for key, val in distortions_mapping.items():\n",
    "    print(f'{key} : {val}')"
   ]
  },
  {
   "cell_type": "code",
   "execution_count": 18,
   "id": "72757cfb",
   "metadata": {},
   "outputs": [
    {
     "name": "stdout",
     "output_type": "stream",
     "text": [
      "1 : 550.8953333333334\n",
      "2 : 86.39021984551397\n",
      "3 : 31.37135897435897\n",
      "4 : 19.465989010989013\n",
      "5 : 13.916908757908757\n",
      "6 : 11.025145110250373\n",
      "7 : 9.293371908030947\n",
      "8 : 7.68028529657477\n",
      "9 : 6.541584461432288\n"
     ]
    }
   ],
   "source": [
    "# inertia values\n",
    "for key, val in inertias_mapping.items():\n",
    "    print(f'{key} : {val}')"
   ]
  },
  {
   "cell_type": "code",
   "execution_count": 20,
   "id": "4458e0d2",
   "metadata": {},
   "outputs": [
    {
     "data": {
      "image/png": "[encoded data removed]",
      "text/plain": [
       "<Figure size 432x288 with 1 Axes>"
      ]
     },
     "metadata": {
      "needs_background": "light"
     },
     "output_type": "display_data"
    }
   ],
   "source": [
    "# visualize distortion values\n",
    "pyplot.plot(K, distortions, 'bx-')\n",
    "pyplot.xlabel('Values of K')\n",
    "pyplot.ylabel('Distortion')\n",
    "pyplot.title('The Elbow Method using Distortion')\n",
    "pyplot.show()"
   ]
  },
  {
   "cell_type": "code",
   "execution_count": 21,
   "id": "c9963628",
   "metadata": {
    "scrolled": true
   },
   "outputs": [
    {
     "data": {
      "image/png": "[encoded data removed]",
      "text/plain": [
       "<Figure size 432x288 with 1 Axes>"
      ]
     },
     "metadata": {
      "needs_background": "light"
     },
     "output_type": "display_data"
    }
   ],
   "source": [
    "# visualize inertia values\n",
    "pyplot.plot(K, inertias, 'bx-')\n",
    "pyplot.xlabel('Values of K')\n",
    "pyplot.ylabel('Inertia')\n",
    "pyplot.title('The Elbow Method using Inertia')\n",
    "pyplot.show()"
   ]
  },
  {
   "cell_type": "markdown",
   "id": "b8ae50b8",
   "metadata": {},
   "source": [
    "### Create Kmeans Model"
   ]
  },
  {
   "cell_type": "code",
   "execution_count": 22,
   "id": "0dac7169",
   "metadata": {},
   "outputs": [
    {
     "data": {
      "text/plain": [
       "KMeans(max_iter=500, n_clusters=3)"
      ]
     },
     "execution_count": 22,
     "metadata": {},
     "output_type": "execute_result"
    }
   ],
   "source": [
    "k_means = KMeans(n_clusters=3, max_iter=500)\n",
    "k_means.fit(df_iris)"
   ]
  },
  {
   "cell_type": "code",
   "execution_count": 23,
   "id": "2a41e67d",
   "metadata": {},
   "outputs": [
    {
     "data": {
      "text/plain": [
       "array([[1.462     , 0.246     ],\n",
       "       [5.59583333, 2.0375    ],\n",
       "       [4.26923077, 1.34230769]])"
      ]
     },
     "execution_count": 23,
     "metadata": {},
     "output_type": "execute_result"
    }
   ],
   "source": [
    "k_means.cluster_centers_"
   ]
  },
  {
   "cell_type": "code",
   "execution_count": 25,
   "id": "01d903af",
   "metadata": {},
   "outputs": [
    {
     "data": {
      "image/png": "[encoded data removed]",
      "text/plain": [
       "<Figure size 432x288 with 1 Axes>"
      ]
     },
     "metadata": {
      "needs_background": "light"
     },
     "output_type": "display_data"
    }
   ],
   "source": [
    "pyplot.figure()\n",
    "pyplot.plot(df_iris['petallength'],df_iris['petalwidth'],'.')\n",
    "pyplot.plot(k_means.cluster_centers_[:,0],k_means.cluster_centers_[:,1],\n",
    "'or')\n",
    "pyplot.xlabel(\"petallength\")\n",
    "pyplot.ylabel(\"petalwidth\")\n",
    "pyplot.show()"
   ]
  },
  {
   "cell_type": "code",
   "execution_count": 44,
   "id": "983c8778",
   "metadata": {},
   "outputs": [
    {
     "data": {
      "text/html": [
       "<div>\n",
       "<style scoped>\n",
       "    .dataframe tbody tr th:only-of-type {\n",
       "        vertical-align: middle;\n",
       "    }\n",
       "\n",
       "    .dataframe tbody tr th {\n",
       "        vertical-align: top;\n",
       "    }\n",
       "\n",
       "    .dataframe thead th {\n",
       "        text-align: right;\n",
       "    }\n",
       "</style>\n",
       "<table border=\"1\" class=\"dataframe\">\n",
       "  <thead>\n",
       "    <tr style=\"text-align: right;\">\n",
       "      <th></th>\n",
       "      <th>petallength</th>\n",
       "      <th>petalwidth</th>\n",
       "      <th>cluster</th>\n",
       "    </tr>\n",
       "  </thead>\n",
       "  <tbody>\n",
       "    <tr>\n",
       "      <th>0</th>\n",
       "      <td>1.4</td>\n",
       "      <td>0.2</td>\n",
       "      <td>0</td>\n",
       "    </tr>\n",
       "    <tr>\n",
       "      <th>1</th>\n",
       "      <td>1.4</td>\n",
       "      <td>0.2</td>\n",
       "      <td>0</td>\n",
       "    </tr>\n",
       "    <tr>\n",
       "      <th>2</th>\n",
       "      <td>1.3</td>\n",
       "      <td>0.2</td>\n",
       "      <td>0</td>\n",
       "    </tr>\n",
       "    <tr>\n",
       "      <th>3</th>\n",
       "      <td>1.5</td>\n",
       "      <td>0.2</td>\n",
       "      <td>0</td>\n",
       "    </tr>\n",
       "    <tr>\n",
       "      <th>4</th>\n",
       "      <td>1.4</td>\n",
       "      <td>0.2</td>\n",
       "      <td>0</td>\n",
       "    </tr>\n",
       "    <tr>\n",
       "      <th>...</th>\n",
       "      <td>...</td>\n",
       "      <td>...</td>\n",
       "      <td>...</td>\n",
       "    </tr>\n",
       "    <tr>\n",
       "      <th>145</th>\n",
       "      <td>5.2</td>\n",
       "      <td>2.3</td>\n",
       "      <td>1</td>\n",
       "    </tr>\n",
       "    <tr>\n",
       "      <th>146</th>\n",
       "      <td>5.0</td>\n",
       "      <td>1.9</td>\n",
       "      <td>1</td>\n",
       "    </tr>\n",
       "    <tr>\n",
       "      <th>147</th>\n",
       "      <td>5.2</td>\n",
       "      <td>2.0</td>\n",
       "      <td>1</td>\n",
       "    </tr>\n",
       "    <tr>\n",
       "      <th>148</th>\n",
       "      <td>5.4</td>\n",
       "      <td>2.3</td>\n",
       "      <td>1</td>\n",
       "    </tr>\n",
       "    <tr>\n",
       "      <th>149</th>\n",
       "      <td>5.1</td>\n",
       "      <td>1.8</td>\n",
       "      <td>1</td>\n",
       "    </tr>\n",
       "  </tbody>\n",
       "</table>\n",
       "<p>150 rows × 3 columns</p>\n",
       "</div>"
      ],
      "text/plain": [
       "     petallength  petalwidth  cluster\n",
       "0            1.4         0.2        0\n",
       "1            1.4         0.2        0\n",
       "2            1.3         0.2        0\n",
       "3            1.5         0.2        0\n",
       "4            1.4         0.2        0\n",
       "..           ...         ...      ...\n",
       "145          5.2         2.3        1\n",
       "146          5.0         1.9        1\n",
       "147          5.2         2.0        1\n",
       "148          5.4         2.3        1\n",
       "149          5.1         1.8        1\n",
       "\n",
       "[150 rows x 3 columns]"
      ]
     },
     "execution_count": 44,
     "metadata": {},
     "output_type": "execute_result"
    }
   ],
   "source": [
    "df_iris['cluster'] = k_means.fit_predict(df_iris)\n",
    "df_iris"
   ]
  },
  {
   "cell_type": "code",
   "execution_count": 57,
   "id": "3c8f5327",
   "metadata": {},
   "outputs": [
    {
     "data": {
      "image/png": "[encoded data removed]",
      "text/plain": [
       "<Figure size 432x288 with 1 Axes>"
      ]
     },
     "metadata": {
      "needs_background": "light"
     },
     "output_type": "display_data"
    }
   ],
   "source": [
    "pyplot.figure()\n",
    "pyplot.plot(k_means.cluster_centers_[:,0],\n",
    "            k_means.cluster_centers_[:,1],\n",
    "            'or')\n",
    "pyplot.scatter(df_iris['petallength'], \n",
    "               df_iris['petalwidth'], \n",
    "               c=k_means.labels_.astype(float))\n",
    "pyplot.show()"
   ]
  },
  {
   "cell_type": "markdown",
   "id": "8c48f6b5",
   "metadata": {},
   "source": [
    "### Save and Load Model\n",
    "\n",
    "Model yang sudah dibuat dapat disimpan untuk bisa digunakan pada deployment/production. Model disimpan menggunakan format pickle. Model yang disimpan berupa data binary."
   ]
  },
  {
   "cell_type": "code",
   "execution_count": 1,
   "id": "4d389333",
   "metadata": {},
   "outputs": [],
   "source": [
    "import pickle"
   ]
  },
  {
   "cell_type": "code",
   "execution_count": 59,
   "id": "75f6ae08",
   "metadata": {},
   "outputs": [],
   "source": [
    "# save model\n",
    "pickle.dump(k_means, open(\"iris_model.pickle\", \"wb\"))\n",
    "# wb = write binary"
   ]
  },
  {
   "cell_type": "code",
   "execution_count": 2,
   "id": "c969063b",
   "metadata": {},
   "outputs": [],
   "source": [
    "# load model\n",
    "iris_model = pickle.load(open(\"iris_model.pickle\", \"rb\"))\n",
    "# rb = read binary"
   ]
  },
  {
   "cell_type": "markdown",
   "id": "ab1792f5",
   "metadata": {},
   "source": [
    "Mencari tahu apakah dapat melihat fitur/variabel/kolom yang digunakan dalam model yang sudah dibuat.\n",
    "\n",
    "answer: https://stackoverflow.com/questions/55419654/is-it-possible-to-get-list-of-features-variables-used-in-model-after-saving-mode"
   ]
  },
  {
   "cell_type": "code",
   "execution_count": 17,
   "id": "b3cc0e8a",
   "metadata": {},
   "outputs": [
    {
     "data": {
      "text/plain": [
       "{'algorithm': 'auto',\n",
       " 'copy_x': True,\n",
       " 'init': 'k-means++',\n",
       " 'max_iter': 500,\n",
       " 'n_clusters': 3,\n",
       " 'n_init': 10,\n",
       " 'random_state': None,\n",
       " 'tol': 0.0001,\n",
       " 'verbose': 0}"
      ]
     },
     "execution_count": 17,
     "metadata": {},
     "output_type": "execute_result"
    }
   ],
   "source": [
    "# get parameters of the model\n",
    "iris_model.get_params()"
   ]
  },
  {
   "cell_type": "code",
   "execution_count": 22,
   "id": "a2384a6a",
   "metadata": {},
   "outputs": [
    {
     "data": {
      "text/plain": [
       "['__class__',\n",
       " '__delattr__',\n",
       " '__dict__',\n",
       " '__dir__',\n",
       " '__doc__',\n",
       " '__eq__',\n",
       " '__format__',\n",
       " '__ge__',\n",
       " '__getattribute__',\n",
       " '__getstate__',\n",
       " '__gt__',\n",
       " '__hash__',\n",
       " '__init__',\n",
       " '__init_subclass__',\n",
       " '__le__',\n",
       " '__lt__',\n",
       " '__module__',\n",
       " '__ne__',\n",
       " '__new__',\n",
       " '__reduce__',\n",
       " '__reduce_ex__',\n",
       " '__repr__',\n",
       " '__setattr__',\n",
       " '__setstate__',\n",
       " '__sizeof__',\n",
       " '__str__',\n",
       " '__subclasshook__',\n",
       " '__weakref__',\n",
       " '_algorithm',\n",
       " '_check_feature_names',\n",
       " '_check_mkl_vcomp',\n",
       " '_check_n_features',\n",
       " '_check_params',\n",
       " '_check_test_data',\n",
       " '_estimator_type',\n",
       " '_get_param_names',\n",
       " '_get_tags',\n",
       " '_init_centroids',\n",
       " '_more_tags',\n",
       " '_n_init',\n",
       " '_n_threads',\n",
       " '_repr_html_',\n",
       " '_repr_html_inner',\n",
       " '_repr_mimebundle_',\n",
       " '_tol',\n",
       " '_transform',\n",
       " '_validate_center_shape',\n",
       " '_validate_data',\n",
       " 'algorithm',\n",
       " 'cluster_centers_',\n",
       " 'copy_x',\n",
       " 'fit',\n",
       " 'fit_predict',\n",
       " 'fit_transform',\n",
       " 'get_params',\n",
       " 'inertia_',\n",
       " 'init',\n",
       " 'labels_',\n",
       " 'max_iter',\n",
       " 'n_clusters',\n",
       " 'n_features_in_',\n",
       " 'n_init',\n",
       " 'n_iter_',\n",
       " 'predict',\n",
       " 'random_state',\n",
       " 'score',\n",
       " 'set_params',\n",
       " 'tol',\n",
       " 'transform',\n",
       " 'verbose']"
      ]
     },
     "execution_count": 22,
     "metadata": {},
     "output_type": "execute_result"
    }
   ],
   "source": [
    "dir(iris_model)"
   ]
  },
  {
   "cell_type": "code",
   "execution_count": 33,
   "id": "90c2ae83",
   "metadata": {},
   "outputs": [
    {
     "data": {
      "text/plain": [
       "{'non_deterministic': False,\n",
       " 'requires_positive_X': False,\n",
       " 'requires_positive_y': False,\n",
       " 'X_types': ['2darray'],\n",
       " 'poor_score': False,\n",
       " 'no_validation': False,\n",
       " 'multioutput': False,\n",
       " 'allow_nan': False,\n",
       " 'stateless': False,\n",
       " 'multilabel': False,\n",
       " '_skip_test': False,\n",
       " '_xfail_checks': {'check_sample_weights_invariance': 'zero sample_weight is not equivalent to removing samples'},\n",
       " 'multioutput_only': False,\n",
       " 'binary_only': False,\n",
       " 'requires_fit': True,\n",
       " 'preserves_dtype': [],\n",
       " 'requires_y': False,\n",
       " 'pairwise': False}"
      ]
     },
     "execution_count": 33,
     "metadata": {},
     "output_type": "execute_result"
    }
   ],
   "source": [
    "iris_model._get_tags()"
   ]
  },
  {
   "cell_type": "code",
   "execution_count": 35,
   "id": "72532e66",
   "metadata": {},
   "outputs": [
    {
     "data": {
      "text/plain": [
       "{'_xfail_checks': {'check_sample_weights_invariance': 'zero sample_weight is not equivalent to removing samples'}}"
      ]
     },
     "execution_count": 35,
     "metadata": {},
     "output_type": "execute_result"
    }
   ],
   "source": [
    "iris_model._more_tags()"
   ]
  },
  {
   "cell_type": "code",
   "execution_count": 36,
   "id": "ca9e7d66",
   "metadata": {},
   "outputs": [
    {
     "data": {
      "text/plain": [
       "['algorithm',\n",
       " 'copy_x',\n",
       " 'init',\n",
       " 'max_iter',\n",
       " 'n_clusters',\n",
       " 'n_init',\n",
       " 'random_state',\n",
       " 'tol',\n",
       " 'verbose']"
      ]
     },
     "execution_count": 36,
     "metadata": {},
     "output_type": "execute_result"
    }
   ],
   "source": [
    "iris_model._get_param_names()"
   ]
  },
  {
   "cell_type": "markdown",
   "id": "31182538",
   "metadata": {},
   "source": [
    "### Clustering new samples of data"
   ]
  },
  {
   "cell_type": "code",
   "execution_count": 4,
   "id": "bea19931",
   "metadata": {},
   "outputs": [],
   "source": [
    "# create new samples of data then turns into DataFrame\n",
    "x1 = [1.0, 1.6, 2.9, 3.9]\n",
    "x2 = [0.7, 1.2, 1.5, 2.0]\n",
    "\n",
    "df = pd.DataFrame(list(zip(x1, x2)), \n",
    "                  columns=['petallength', 'petalwidth'])"
   ]
  },
  {
   "cell_type": "code",
   "execution_count": 5,
   "id": "fa8fb2aa",
   "metadata": {},
   "outputs": [
    {
     "data": {
      "text/html": [
       "<div>\n",
       "<style scoped>\n",
       "    .dataframe tbody tr th:only-of-type {\n",
       "        vertical-align: middle;\n",
       "    }\n",
       "\n",
       "    .dataframe tbody tr th {\n",
       "        vertical-align: top;\n",
       "    }\n",
       "\n",
       "    .dataframe thead th {\n",
       "        text-align: right;\n",
       "    }\n",
       "</style>\n",
       "<table border=\"1\" class=\"dataframe\">\n",
       "  <thead>\n",
       "    <tr style=\"text-align: right;\">\n",
       "      <th></th>\n",
       "      <th>petallength</th>\n",
       "      <th>petalwidth</th>\n",
       "    </tr>\n",
       "  </thead>\n",
       "  <tbody>\n",
       "    <tr>\n",
       "      <th>0</th>\n",
       "      <td>1.0</td>\n",
       "      <td>0.7</td>\n",
       "    </tr>\n",
       "    <tr>\n",
       "      <th>1</th>\n",
       "      <td>1.6</td>\n",
       "      <td>1.2</td>\n",
       "    </tr>\n",
       "    <tr>\n",
       "      <th>2</th>\n",
       "      <td>2.9</td>\n",
       "      <td>1.5</td>\n",
       "    </tr>\n",
       "    <tr>\n",
       "      <th>3</th>\n",
       "      <td>3.9</td>\n",
       "      <td>2.0</td>\n",
       "    </tr>\n",
       "  </tbody>\n",
       "</table>\n",
       "</div>"
      ],
      "text/plain": [
       "   petallength  petalwidth\n",
       "0          1.0         0.7\n",
       "1          1.6         1.2\n",
       "2          2.9         1.5\n",
       "3          3.9         2.0"
      ]
     },
     "execution_count": 5,
     "metadata": {},
     "output_type": "execute_result"
    }
   ],
   "source": [
    "df"
   ]
  },
  {
   "cell_type": "code",
   "execution_count": 6,
   "id": "d9665c59",
   "metadata": {},
   "outputs": [],
   "source": [
    "# cluster new data with loaded model\n",
    "results = iris_model.fit_predict(df)"
   ]
  },
  {
   "cell_type": "code",
   "execution_count": 7,
   "id": "7012a6fa",
   "metadata": {},
   "outputs": [],
   "source": [
    "df['cluster'] = results"
   ]
  },
  {
   "cell_type": "code",
   "execution_count": 8,
   "id": "f1f22824",
   "metadata": {},
   "outputs": [
    {
     "data": {
      "text/html": [
       "<div>\n",
       "<style scoped>\n",
       "    .dataframe tbody tr th:only-of-type {\n",
       "        vertical-align: middle;\n",
       "    }\n",
       "\n",
       "    .dataframe tbody tr th {\n",
       "        vertical-align: top;\n",
       "    }\n",
       "\n",
       "    .dataframe thead th {\n",
       "        text-align: right;\n",
       "    }\n",
       "</style>\n",
       "<table border=\"1\" class=\"dataframe\">\n",
       "  <thead>\n",
       "    <tr style=\"text-align: right;\">\n",
       "      <th></th>\n",
       "      <th>petallength</th>\n",
       "      <th>petalwidth</th>\n",
       "      <th>cluster</th>\n",
       "    </tr>\n",
       "  </thead>\n",
       "  <tbody>\n",
       "    <tr>\n",
       "      <th>0</th>\n",
       "      <td>1.0</td>\n",
       "      <td>0.7</td>\n",
       "      <td>0</td>\n",
       "    </tr>\n",
       "    <tr>\n",
       "      <th>1</th>\n",
       "      <td>1.6</td>\n",
       "      <td>1.2</td>\n",
       "      <td>0</td>\n",
       "    </tr>\n",
       "    <tr>\n",
       "      <th>2</th>\n",
       "      <td>2.9</td>\n",
       "      <td>1.5</td>\n",
       "      <td>2</td>\n",
       "    </tr>\n",
       "    <tr>\n",
       "      <th>3</th>\n",
       "      <td>3.9</td>\n",
       "      <td>2.0</td>\n",
       "      <td>1</td>\n",
       "    </tr>\n",
       "  </tbody>\n",
       "</table>\n",
       "</div>"
      ],
      "text/plain": [
       "   petallength  petalwidth  cluster\n",
       "0          1.0         0.7        0\n",
       "1          1.6         1.2        0\n",
       "2          2.9         1.5        2\n",
       "3          3.9         2.0        1"
      ]
     },
     "execution_count": 8,
     "metadata": {},
     "output_type": "execute_result"
    }
   ],
   "source": [
    "df"
   ]
  },
  {
   "cell_type": "markdown",
   "id": "767c4727",
   "metadata": {},
   "source": [
    "jika nama kolom tidak ada, apakah model masih tetap akan bekerja?"
   ]
  },
  {
   "cell_type": "code",
   "execution_count": 9,
   "id": "13a1e882",
   "metadata": {},
   "outputs": [],
   "source": [
    "df2 = pd.DataFrame(list(zip(x1, x2)))"
   ]
  },
  {
   "cell_type": "code",
   "execution_count": 10,
   "id": "6d5b3b3b",
   "metadata": {},
   "outputs": [
    {
     "data": {
      "text/html": [
       "<div>\n",
       "<style scoped>\n",
       "    .dataframe tbody tr th:only-of-type {\n",
       "        vertical-align: middle;\n",
       "    }\n",
       "\n",
       "    .dataframe tbody tr th {\n",
       "        vertical-align: top;\n",
       "    }\n",
       "\n",
       "    .dataframe thead th {\n",
       "        text-align: right;\n",
       "    }\n",
       "</style>\n",
       "<table border=\"1\" class=\"dataframe\">\n",
       "  <thead>\n",
       "    <tr style=\"text-align: right;\">\n",
       "      <th></th>\n",
       "      <th>0</th>\n",
       "      <th>1</th>\n",
       "    </tr>\n",
       "  </thead>\n",
       "  <tbody>\n",
       "    <tr>\n",
       "      <th>0</th>\n",
       "      <td>1.0</td>\n",
       "      <td>0.7</td>\n",
       "    </tr>\n",
       "    <tr>\n",
       "      <th>1</th>\n",
       "      <td>1.6</td>\n",
       "      <td>1.2</td>\n",
       "    </tr>\n",
       "    <tr>\n",
       "      <th>2</th>\n",
       "      <td>2.9</td>\n",
       "      <td>1.5</td>\n",
       "    </tr>\n",
       "    <tr>\n",
       "      <th>3</th>\n",
       "      <td>3.9</td>\n",
       "      <td>2.0</td>\n",
       "    </tr>\n",
       "  </tbody>\n",
       "</table>\n",
       "</div>"
      ],
      "text/plain": [
       "     0    1\n",
       "0  1.0  0.7\n",
       "1  1.6  1.2\n",
       "2  2.9  1.5\n",
       "3  3.9  2.0"
      ]
     },
     "execution_count": 10,
     "metadata": {},
     "output_type": "execute_result"
    }
   ],
   "source": [
    "df2"
   ]
  },
  {
   "cell_type": "code",
   "execution_count": 12,
   "id": "c03ebabc",
   "metadata": {},
   "outputs": [],
   "source": [
    "results = iris_model.fit_predict(df2)"
   ]
  },
  {
   "cell_type": "code",
   "execution_count": 13,
   "id": "7380db0c",
   "metadata": {},
   "outputs": [
    {
     "data": {
      "text/html": [
       "<div>\n",
       "<style scoped>\n",
       "    .dataframe tbody tr th:only-of-type {\n",
       "        vertical-align: middle;\n",
       "    }\n",
       "\n",
       "    .dataframe tbody tr th {\n",
       "        vertical-align: top;\n",
       "    }\n",
       "\n",
       "    .dataframe thead th {\n",
       "        text-align: right;\n",
       "    }\n",
       "</style>\n",
       "<table border=\"1\" class=\"dataframe\">\n",
       "  <thead>\n",
       "    <tr style=\"text-align: right;\">\n",
       "      <th></th>\n",
       "      <th>0</th>\n",
       "      <th>1</th>\n",
       "      <th>cluster</th>\n",
       "    </tr>\n",
       "  </thead>\n",
       "  <tbody>\n",
       "    <tr>\n",
       "      <th>0</th>\n",
       "      <td>1.0</td>\n",
       "      <td>0.7</td>\n",
       "      <td>0</td>\n",
       "    </tr>\n",
       "    <tr>\n",
       "      <th>1</th>\n",
       "      <td>1.6</td>\n",
       "      <td>1.2</td>\n",
       "      <td>0</td>\n",
       "    </tr>\n",
       "    <tr>\n",
       "      <th>2</th>\n",
       "      <td>2.9</td>\n",
       "      <td>1.5</td>\n",
       "      <td>2</td>\n",
       "    </tr>\n",
       "    <tr>\n",
       "      <th>3</th>\n",
       "      <td>3.9</td>\n",
       "      <td>2.0</td>\n",
       "      <td>1</td>\n",
       "    </tr>\n",
       "  </tbody>\n",
       "</table>\n",
       "</div>"
      ],
      "text/plain": [
       "     0    1  cluster\n",
       "0  1.0  0.7        0\n",
       "1  1.6  1.2        0\n",
       "2  2.9  1.5        2\n",
       "3  3.9  2.0        1"
      ]
     },
     "execution_count": 13,
     "metadata": {},
     "output_type": "execute_result"
    }
   ],
   "source": [
    "df2['cluster']=results\n",
    "df2"
   ]
  },
  {
   "cell_type": "markdown",
   "id": "3a2d0584",
   "metadata": {},
   "source": [
    "## DBSCAN"
   ]
  },
  {
   "cell_type": "code",
   "execution_count": 88,
   "id": "7fa8e3a2",
   "metadata": {},
   "outputs": [],
   "source": [
    "from sklearn.cluster import DBSCAN"
   ]
  },
  {
   "cell_type": "code",
   "execution_count": 118,
   "id": "41e3eea1",
   "metadata": {},
   "outputs": [
    {
     "data": {
      "text/plain": [
       "DBSCAN(algorithm='brute', eps=0.6, min_samples=13)"
      ]
     },
     "execution_count": 118,
     "metadata": {},
     "output_type": "execute_result"
    }
   ],
   "source": [
    "# create a dbscan model by changing some parameters whose values are default\n",
    "dbscan_model = DBSCAN(eps=0.6, min_samples=13, algorithm='brute')\n",
    "dbscan_model.fit(df_iris)"
   ]
  },
  {
   "cell_type": "code",
   "execution_count": 119,
   "id": "7ff03a72",
   "metadata": {},
   "outputs": [],
   "source": [
    "unique_labels = set(dbscan_model.labels_)\n",
    "colors = [pyplot.cm.Spectral(each) for each in [0.1, 0.3, 0.5, 0.7]]"
   ]
  },
  {
   "cell_type": "code",
   "execution_count": 98,
   "id": "798cbb66",
   "metadata": {},
   "outputs": [
    {
     "data": {
      "text/plain": [
       "array([ 0,  0,  0,  0,  0,  0,  0,  0,  0,  0,  0,  0,  0,  0,  0,  0,  0,\n",
       "        0,  0,  0,  0,  0,  0,  0,  0,  0,  0,  0,  0,  0,  0,  0,  0,  0,\n",
       "        0,  0,  0,  0,  0,  0,  0,  0,  0,  0,  0,  0,  0,  0,  0,  0,  1,\n",
       "        1,  1,  1,  1,  1,  1, -1,  1,  1, -1,  1,  1,  1,  1,  1,  1,  1,\n",
       "        1,  1,  1,  1,  1,  1,  1,  1,  1,  2,  1, -1,  1,  1,  1,  2,  1,\n",
       "        1,  1,  1,  1,  1,  1,  1,  1, -1,  1,  1,  1,  1, -1,  1, -1,  2,\n",
       "        2, -1,  2, -1,  1, -1, -1, -1,  2,  2,  2,  2, -1,  2,  2, -1, -1,\n",
       "        1,  2,  2, -1,  2,  2, -1,  1,  2,  2, -1, -1, -1,  2, -1, -1, -1,\n",
       "        2,  2,  1,  2,  2,  2,  2,  2,  2,  2,  2,  2,  2,  2],\n",
       "      dtype=int64)"
      ]
     },
     "execution_count": 98,
     "metadata": {},
     "output_type": "execute_result"
    }
   ],
   "source": [
    "dbscan_model.labels_"
   ]
  },
  {
   "cell_type": "code",
   "execution_count": 121,
   "id": "4e0272ce",
   "metadata": {},
   "outputs": [
    {
     "data": {
      "image/png": "[encoded data removed]",
      "text/plain": [
       "<Figure size 432x288 with 1 Axes>"
      ]
     },
     "metadata": {
      "needs_background": "light"
     },
     "output_type": "display_data"
    }
   ],
   "source": [
    "# coloring each data labels based on its cluster\n",
    "\n",
    "for i in range(len(df_iris)):\n",
    "    if dbscan_model.labels_[i]==-1:\n",
    "        color = 'k'\n",
    "    else:\n",
    "        color = colors[dbscan_model.labels_[i]]\n",
    "        \n",
    "    pyplot.plot(df_iris['petallength'][i],df_iris['petalwidth'][i], marker='o',\n",
    "                markerfacecolor=color,\n",
    "                markeredgecolor='k')\n",
    "pyplot.show()\n"
   ]
  },
  {
   "cell_type": "code",
   "execution_count": null,
   "id": "862bc5f8",
   "metadata": {},
   "outputs": [],
   "source": []
  }
 ],
 "metadata": {
  "kernelspec": {
   "display_name": "Python 3",
   "language": "python",
   "name": "python3"
  },
  "language_info": {
   "codemirror_mode": {
    "name": "ipython",
    "version": 3
   },
   "file_extension": ".py",
   "mimetype": "text/x-python",
   "name": "python",
   "nbconvert_exporter": "python",
   "pygments_lexer": "ipython3",
   "version": "3.7.4"
  }
 },
 "nbformat": 4,
 "nbformat_minor": 5
}
